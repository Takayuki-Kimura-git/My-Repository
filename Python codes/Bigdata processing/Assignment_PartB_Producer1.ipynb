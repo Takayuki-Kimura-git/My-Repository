{
 "cells": [
  {
   "cell_type": "code",
   "execution_count": 1,
   "metadata": {},
   "outputs": [
    {
     "name": "stdout",
     "output_type": "stream",
     "text": [
      "{'_id': ObjectId('5ee1a2ae29351fe33d723c3a'), 'latitude': -37.614000000000004, 'longitude': 143.451, 'air_temperature_celcius': 19, 'relative_humidity': 60.2, 'windspeed_knots': 6.4, 'max_wind_speed': 12.0, 'precipitation ': ' 0.00I', 'producer': 1, 'date': '2019-2-7', 'hotspot_histories': [{'latitude': -36.6952, 'longitude': 144.7228, 'confidence': 84.0, 'surface_temperature_celcius': 57.0, 'producer': 2, 'time': 'T11:19:1', 'datetime': '2019-2-7T11:19:1'}, {'latitude': -37.3046, 'longitude': 143.5448, 'confidence': 93.0, 'surface_temperature_celcius': 72.0, 'producer': 2, 'time': 'T11:19:3', 'datetime': '2019-2-7T11:19:3'}]}\n",
      "2019-02-07 00:00:00\n",
      "<class 'datetime.datetime'>\n"
     ]
    }
   ],
   "source": [
    "import pymongo\n",
    "from pymongo import MongoClient\n",
    "import datetime as dt\n",
    "# Method 1: connect on the default host and port\n",
    "client = MongoClient () # method 1: connect on the default host and port\n",
    "db= client.fit3182_assignment_db\n",
    "collection = db.Mycollection\n",
    "\n",
    "results = collection.find().sort('date', -1).limit(1)\n",
    "\n",
    "for item in results:\n",
    "    print(item)\n",
    "    latestDate=item[\"date\"]\n",
    "latestDate = dt.datetime.strptime(latestDate,'%Y-%m-%d')\n",
    "print(latestDate)\n",
    "print(type(latestDate))\n"
   ]
  },
  {
   "cell_type": "code",
   "execution_count": 2,
   "metadata": {
    "scrolled": true
   },
   "outputs": [
    {
     "name": "stdout",
     "output_type": "stream",
     "text": [
      "Message published successfully. Data: {\"latitude\": -36.939999999999998, \"longitude\": 143.28100000000001, \"air_temperature_celcius\": 21, \"relative_humidity\": 52.799999999999997, \"windspeed_knots\": 4.0999999999999996, \"max_wind_speed\": 11.1, \"precipitation \": \" 0.00I\", \"producer\": 1, \"date\": \"2019-2-7\"}\n",
      "Message published successfully. Data: {\"latitude\": -37.472000000000001, \"longitude\": 148.119, \"air_temperature_celcius\": 15, \"relative_humidity\": 49.899999999999999, \"windspeed_knots\": 7.9000000000000004, \"max_wind_speed\": 13.0, \"precipitation \": \" 0.01G\", \"producer\": 1, \"date\": \"2019-2-8\"}\n",
      "Message published successfully. Data: {\"latitude\": -35.364000000000004, \"longitude\": 141.06299999999999, \"air_temperature_celcius\": 15, \"relative_humidity\": 51.899999999999999, \"windspeed_knots\": 6.5999999999999996, \"max_wind_speed\": 12.0, \"precipitation \": \" 0.01G\", \"producer\": 1, \"date\": \"2019-2-9\"}\n",
      "Message published successfully. Data: {\"latitude\": -36.134599999999999, \"longitude\": 145.21960000000001, \"air_temperature_celcius\": 8, \"relative_humidity\": 37.200000000000003, \"windspeed_knots\": 5.5, \"max_wind_speed\": 11.1, \"precipitation \": \" 0.00G\", \"producer\": 1, \"date\": \"2019-2-10\"}\n",
      "Message published successfully. Data: {\"latitude\": -36.096600000000002, \"longitude\": 142.36349999999999, \"air_temperature_celcius\": 22, \"relative_humidity\": 57.0, \"windspeed_knots\": 8.5, \"max_wind_speed\": 15.0, \"precipitation \": \" 0.00G\", \"producer\": 1, \"date\": \"2019-2-11\"}\n",
      "Message published successfully. Data: {\"latitude\": -37.676699999999997, \"longitude\": 142.98920000000001, \"air_temperature_celcius\": 18, \"relative_humidity\": 53.799999999999997, \"windspeed_knots\": 6.7000000000000002, \"max_wind_speed\": 14.0, \"precipitation \": \" 0.00I\", \"producer\": 1, \"date\": \"2019-2-12\"}\n",
      "Message published successfully. Data: {\"latitude\": -37.460999999999999, \"longitude\": 148.10900000000001, \"air_temperature_celcius\": 14, \"relative_humidity\": 50.700000000000003, \"windspeed_knots\": 8.5999999999999996, \"max_wind_speed\": 13.0, \"precipitation \": \" 0.12G\", \"producer\": 1, \"date\": \"2019-2-13\"}\n",
      "Message published successfully. Data: {\"latitude\": -36.250999999999998, \"longitude\": 142.5651, \"air_temperature_celcius\": 17, \"relative_humidity\": 53.600000000000001, \"windspeed_knots\": 7.5999999999999996, \"max_wind_speed\": 15.0, \"precipitation \": \" 0.00I\", \"producer\": 1, \"date\": \"2019-2-14\"}\n",
      "Message published successfully. Data: {\"latitude\": -36.432499999999997, \"longitude\": 144.3142, \"air_temperature_celcius\": 26, \"relative_humidity\": 61.0, \"windspeed_knots\": 9.3000000000000007, \"max_wind_speed\": 15.0, \"precipitation \": \" 0.20G\", \"producer\": 1, \"date\": \"2019-2-15\"}\n",
      "Message published successfully. Data: {\"latitude\": -37.363, \"longitude\": 148.06, \"air_temperature_celcius\": 11, \"relative_humidity\": 35.299999999999997, \"windspeed_knots\": 18.199999999999999, \"max_wind_speed\": 25.100000000000001, \"precipitation \": \" 0.00I\", \"producer\": 1, \"date\": \"2019-2-16\"}\n",
      "Message published successfully. Data: {\"latitude\": -37.643999999999998, \"longitude\": 149.233, \"air_temperature_celcius\": 22, \"relative_humidity\": 58.0, \"windspeed_knots\": 6.9000000000000004, \"max_wind_speed\": 12.0, \"precipitation \": \" 0.00I\", \"producer\": 1, \"date\": \"2019-2-17\"}\n",
      "Message published successfully. Data: {\"latitude\": -36.377400000000002, \"longitude\": 143.7079, \"air_temperature_celcius\": 11, \"relative_humidity\": 43.200000000000003, \"windspeed_knots\": 8.0999999999999996, \"max_wind_speed\": 14.0, \"precipitation \": \" 0.20G\", \"producer\": 1, \"date\": \"2019-2-18\"}\n",
      "Message published successfully. Data: {\"latitude\": -37.228999999999999, \"longitude\": 141.18200000000002, \"air_temperature_celcius\": 8, \"relative_humidity\": 44.5, \"windspeed_knots\": 4.7000000000000002, \"max_wind_speed\": 7.0, \"precipitation \": \" 0.01G\", \"producer\": 1, \"date\": \"2019-2-19\"}\n",
      "Message published successfully. Data: {\"latitude\": -38.494999999999997, \"longitude\": 146.94399999999999, \"air_temperature_celcius\": 8, \"relative_humidity\": 44.600000000000001, \"windspeed_knots\": 3.8999999999999999, \"max_wind_speed\": 8.0, \"precipitation \": \" 0.39G\", \"producer\": 1, \"date\": \"2019-2-20\"}\n",
      "Message published successfully. Data: {\"latitude\": -37.363, \"longitude\": 148.06, \"air_temperature_celcius\": 11, \"relative_humidity\": 35.299999999999997, \"windspeed_knots\": 18.199999999999999, \"max_wind_speed\": 25.100000000000001, \"precipitation \": \" 0.00I\", \"producer\": 1, \"date\": \"2019-2-21\"}\n",
      "Message published successfully. Data: {\"latitude\": -36.836999999999996, \"longitude\": 142.03909999999999, \"air_temperature_celcius\": 19, \"relative_humidity\": 55.799999999999997, \"windspeed_knots\": 6.0, \"max_wind_speed\": 11.1, \"precipitation \": \" 0.00I\", \"producer\": 1, \"date\": \"2019-2-22\"}\n",
      "Message published successfully. Data: {\"latitude\": -37.451999999999998, \"longitude\": 148.11500000000001, \"air_temperature_celcius\": 8, \"relative_humidity\": 43.799999999999997, \"windspeed_knots\": 7.2999999999999998, \"max_wind_speed\": 14.0, \"precipitation \": \" 0.08G\", \"producer\": 1, \"date\": \"2019-2-23\"}\n",
      "Message published successfully. Data: {\"latitude\": -37.864000000000004, \"longitude\": 144.17400000000001, \"air_temperature_celcius\": 28, \"relative_humidity\": 58.399999999999999, \"windspeed_knots\": 11.9, \"max_wind_speed\": 18.100000000000001, \"precipitation \": \" 0.04G\", \"producer\": 1, \"date\": \"2019-2-24\"}\n",
      "Message published successfully. Data: {\"latitude\": -37.436999999999998, \"longitude\": 148.10399999999998, \"air_temperature_celcius\": 12, \"relative_humidity\": 40.700000000000003, \"windspeed_knots\": 16.699999999999999, \"max_wind_speed\": 21.0, \"precipitation \": \" 0.12G\", \"producer\": 1, \"date\": \"2019-2-25\"}\n",
      "Message published successfully. Data: {\"latitude\": -37.466099999999997, \"longitude\": 143.24189999999999, \"air_temperature_celcius\": 14, \"relative_humidity\": 48.200000000000003, \"windspeed_knots\": 9.0999999999999996, \"max_wind_speed\": 15.0, \"precipitation \": \" 0.00G\", \"producer\": 1, \"date\": \"2019-2-26\"}\n",
      "Message published successfully. Data: {\"latitude\": -35.779000000000003, \"longitude\": 143.10570000000001, \"air_temperature_celcius\": 18, \"relative_humidity\": 53.700000000000003, \"windspeed_knots\": 9.0, \"max_wind_speed\": 13.0, \"precipitation \": \" 0.00I\", \"producer\": 1, \"date\": \"2019-2-27\"}\n",
      "Message published successfully. Data: {\"latitude\": -37.469999999999999, \"longitude\": 148.089, \"air_temperature_celcius\": 11, \"relative_humidity\": 46.399999999999999, \"windspeed_knots\": 6.5, \"max_wind_speed\": 8.9000000000000004, \"precipitation \": \" 0.00I\", \"producer\": 1, \"date\": \"2019-2-28\"}\n",
      "Message published successfully. Data: {\"latitude\": -36.203200000000002, \"longitude\": 145.30250000000001, \"air_temperature_celcius\": 18, \"relative_humidity\": 52.0, \"windspeed_knots\": 7.0999999999999996, \"max_wind_speed\": 14.0, \"precipitation \": \" 0.00I\", \"producer\": 1, \"date\": \"2019-3-1\"}\n",
      "Message published successfully. Data: {\"latitude\": -37.244999999999997, \"longitude\": 143.42600000000002, \"air_temperature_celcius\": 10, \"relative_humidity\": 47.0, \"windspeed_knots\": 5.2000000000000002, \"max_wind_speed\": 8.9000000000000004, \"precipitation \": \" 0.00I\", \"producer\": 1, \"date\": \"2019-3-2\"}\n",
      "Message published successfully. Data: {\"latitude\": -37.621000000000002, \"longitude\": 143.447, \"air_temperature_celcius\": 23, \"relative_humidity\": 53.399999999999999, \"windspeed_knots\": 6.0999999999999996, \"max_wind_speed\": 11.1, \"precipitation \": \" 0.00I\", \"producer\": 1, \"date\": \"2019-3-3\"}\n",
      "Message published successfully. Data: {\"latitude\": -37.294000000000004, \"longitude\": 141.232, \"air_temperature_celcius\": 12, \"relative_humidity\": 49.0, \"windspeed_knots\": 4.5999999999999996, \"max_wind_speed\": 8.9000000000000004, \"precipitation \": \" 0.00G\", \"producer\": 1, \"date\": \"2019-3-4\"}\n",
      "Message published successfully. Data: {\"latitude\": -37.600000000000001, \"longitude\": 149.32499999999999, \"air_temperature_celcius\": 16, \"relative_humidity\": 48.100000000000001, \"windspeed_knots\": 9.3000000000000007, \"max_wind_speed\": 12.0, \"precipitation \": \" 0.00G\", \"producer\": 1, \"date\": \"2019-3-5\"}\n",
      "Message published successfully. Data: {\"latitude\": -36.283999999999999, \"longitude\": 146.14500000000001, \"air_temperature_celcius\": 19, \"relative_humidity\": 54.100000000000001, \"windspeed_knots\": 11.199999999999999, \"max_wind_speed\": 18.100000000000001, \"precipitation \": \" 0.31G\", \"producer\": 1, \"date\": \"2019-3-6\"}\n"
     ]
    },
    {
     "name": "stdout",
     "output_type": "stream",
     "text": [
      "Message published successfully. Data: {\"latitude\": -37.066899999999997, \"longitude\": 141.0556, \"air_temperature_celcius\": 12, \"relative_humidity\": 47.5, \"windspeed_knots\": 15.0, \"max_wind_speed\": 18.100000000000001, \"precipitation \": \" 0.20G\", \"producer\": 1, \"date\": \"2019-3-7\"}\n",
      "Message published successfully. Data: {\"latitude\": -37.326999999999998, \"longitude\": 148.083, \"air_temperature_celcius\": 10, \"relative_humidity\": 44.799999999999997, \"windspeed_knots\": 8.8000000000000007, \"max_wind_speed\": 14.0, \"precipitation \": \" 0.39G\", \"producer\": 1, \"date\": \"2019-3-8\"}\n",
      "Message published successfully. Data: {\"latitude\": -36.283999999999999, \"longitude\": 146.14500000000001, \"air_temperature_celcius\": 19, \"relative_humidity\": 54.100000000000001, \"windspeed_knots\": 11.199999999999999, \"max_wind_speed\": 18.100000000000001, \"precipitation \": \" 0.31G\", \"producer\": 1, \"date\": \"2019-3-9\"}\n",
      "Message published successfully. Data: {\"latitude\": -37.601999999999997, \"longitude\": 149.31100000000001, \"air_temperature_celcius\": 14, \"relative_humidity\": 48.5, \"windspeed_knots\": 7.2999999999999998, \"max_wind_speed\": 14.0, \"precipitation \": \" 0.00G\", \"producer\": 1, \"date\": \"2019-3-10\"}\n",
      "Message published successfully. Data: {\"latitude\": -37.466999999999999, \"longitude\": 143.351, \"air_temperature_celcius\": 17, \"relative_humidity\": 53.399999999999999, \"windspeed_knots\": 9.4000000000000004, \"max_wind_speed\": 25.100000000000001, \"precipitation \": \" 0.16G\", \"producer\": 1, \"date\": \"2019-3-11\"}\n",
      "Message published successfully. Data: {\"latitude\": -36.211100000000002, \"longitude\": 141.505, \"air_temperature_celcius\": 24, \"relative_humidity\": 55.5, \"windspeed_knots\": 7.9000000000000004, \"max_wind_speed\": 15.0, \"precipitation \": \" 0.00I\", \"producer\": 1, \"date\": \"2019-3-12\"}\n",
      "Message published successfully. Data: {\"latitude\": -35.936999999999998, \"longitude\": 145.607, \"air_temperature_celcius\": 10, \"relative_humidity\": 43.299999999999997, \"windspeed_knots\": 2.6000000000000001, \"max_wind_speed\": 7.0, \"precipitation \": \" 0.00I\", \"producer\": 1, \"date\": \"2019-3-13\"}\n",
      "Message published successfully. Data: {\"latitude\": -37.618000000000002, \"longitude\": 149.28100000000001, \"air_temperature_celcius\": 19, \"relative_humidity\": 53.799999999999997, \"windspeed_knots\": 9.1999999999999993, \"max_wind_speed\": 15.0, \"precipitation \": \" 0.02G\", \"producer\": 1, \"date\": \"2019-3-14\"}\n",
      "Message published successfully. Data: {\"latitude\": -37.110399999999998, \"longitude\": 141.828, \"air_temperature_celcius\": 11, \"relative_humidity\": 46.200000000000003, \"windspeed_knots\": 10.5, \"max_wind_speed\": 15.0, \"precipitation \": \" 0.28G\", \"producer\": 1, \"date\": \"2019-3-15\"}\n",
      "Message published successfully. Data: {\"latitude\": -37.497, \"longitude\": 147.26599999999999, \"air_temperature_celcius\": 10, \"relative_humidity\": 41.0, \"windspeed_knots\": 14.1, \"max_wind_speed\": 20.0, \"precipitation \": \" 0.02G\", \"producer\": 1, \"date\": \"2019-3-16\"}\n",
      "Message published successfully. Data: {\"latitude\": -35.889000000000003, \"longitude\": 145.614, \"air_temperature_celcius\": 14, \"relative_humidity\": 49.200000000000003, \"windspeed_knots\": 10.5, \"max_wind_speed\": 20.0, \"precipitation \": \" 0.12G\", \"producer\": 1, \"date\": \"2019-3-17\"}\n",
      "Message published successfully. Data: {\"latitude\": -36.836999999999996, \"longitude\": 142.03909999999999, \"air_temperature_celcius\": 19, \"relative_humidity\": 55.799999999999997, \"windspeed_knots\": 6.0, \"max_wind_speed\": 11.1, \"precipitation \": \" 0.00I\", \"producer\": 1, \"date\": \"2019-3-18\"}\n",
      "Message published successfully. Data: {\"latitude\": -37.385999999999996, \"longitude\": 148.04300000000001, \"air_temperature_celcius\": 8, \"relative_humidity\": 43.299999999999997, \"windspeed_knots\": 3.8999999999999999, \"max_wind_speed\": 8.0, \"precipitation \": \" 0.00I\", \"producer\": 1, \"date\": \"2019-3-19\"}\n",
      "Message published successfully. Data: {\"latitude\": -37.618000000000002, \"longitude\": 149.28100000000001, \"air_temperature_celcius\": 19, \"relative_humidity\": 53.799999999999997, \"windspeed_knots\": 9.1999999999999993, \"max_wind_speed\": 15.0, \"precipitation \": \" 0.02G\", \"producer\": 1, \"date\": \"2019-3-20\"}\n",
      "Message published successfully. Data: {\"latitude\": -36.498000000000005, \"longitude\": 144.87700000000001, \"air_temperature_celcius\": 12, \"relative_humidity\": 51.600000000000001, \"windspeed_knots\": 3.3999999999999999, \"max_wind_speed\": 11.1, \"precipitation \": \" 0.05G\", \"producer\": 1, \"date\": \"2019-3-21\"}\n",
      "Message published successfully. Data: {\"latitude\": -37.864000000000004, \"longitude\": 144.17400000000001, \"air_temperature_celcius\": 28, \"relative_humidity\": 58.399999999999999, \"windspeed_knots\": 11.9, \"max_wind_speed\": 18.100000000000001, \"precipitation \": \" 0.04G\", \"producer\": 1, \"date\": \"2019-3-22\"}\n",
      "Message published successfully. Data: {\"latitude\": -37.457000000000001, \"longitude\": 148.143, \"air_temperature_celcius\": 9, \"relative_humidity\": 39.0, \"windspeed_knots\": 5.5999999999999996, \"max_wind_speed\": 8.9000000000000004, \"precipitation \": \" 0.00G\", \"producer\": 1, \"date\": \"2019-3-23\"}\n",
      "Message published successfully. Data: {\"latitude\": -37.466000000000001, \"longitude\": 148.09999999999999, \"air_temperature_celcius\": 12, \"relative_humidity\": 49.399999999999999, \"windspeed_knots\": 4.4000000000000004, \"max_wind_speed\": 8.9000000000000004, \"precipitation \": \" 0.00I\", \"producer\": 1, \"date\": \"2019-3-24\"}\n",
      "Message published successfully. Data: {\"latitude\": -37.604999999999997, \"longitude\": 149.30200000000002, \"air_temperature_celcius\": 18, \"relative_humidity\": 54.399999999999999, \"windspeed_knots\": 5.7000000000000002, \"max_wind_speed\": 9.9000000000000004, \"precipitation \": \" 0.00I\", \"producer\": 1, \"date\": \"2019-3-25\"}\n",
      "Message published successfully. Data: {\"latitude\": -37.609999999999999, \"longitude\": 149.30700000000002, \"air_temperature_celcius\": 18, \"relative_humidity\": 55.5, \"windspeed_knots\": 8.9000000000000004, \"max_wind_speed\": 15.0, \"precipitation \": \" 0.01G\", \"producer\": 1, \"date\": \"2019-3-26\"}\n",
      "Message published successfully. Data: {\"latitude\": -37.1815, \"longitude\": 146.77770000000001, \"air_temperature_celcius\": 17, \"relative_humidity\": 50.399999999999999, \"windspeed_knots\": 10.800000000000001, \"max_wind_speed\": 16.899999999999999, \"precipitation \": \" 0.00I\", \"producer\": 1, \"date\": \"2019-3-27\"}\n",
      "Message published successfully. Data: {\"latitude\": -36.100000000000001, \"longitude\": 143.767, \"air_temperature_celcius\": 20, \"relative_humidity\": 53.5, \"windspeed_knots\": 7.2000000000000002, \"max_wind_speed\": 15.9, \"precipitation \": \" 0.31G\", \"producer\": 1, \"date\": \"2019-3-28\"}\n",
      "Message published successfully. Data: {\"latitude\": -36.701000000000001, \"longitude\": 142.53799999999998, \"air_temperature_celcius\": 18, \"relative_humidity\": 61.5, \"windspeed_knots\": 5.5, \"max_wind_speed\": 11.1, \"precipitation \": \" 0.28G\", \"producer\": 1, \"date\": \"2019-3-29\"}\n",
      "Message published successfully. Data: {\"latitude\": -37.609999999999999, \"longitude\": 149.29599999999999, \"air_temperature_celcius\": 16, \"relative_humidity\": 48.299999999999997, \"windspeed_knots\": 14.4, \"max_wind_speed\": 19.0, \"precipitation \": \" 0.00G\", \"producer\": 1, \"date\": \"2019-3-30\"}\n",
      "Message published successfully. Data: {\"latitude\": -37.623000000000005, \"longitude\": 149.28399999999999, \"air_temperature_celcius\": 21, \"relative_humidity\": 64.5, \"windspeed_knots\": 10.6, \"max_wind_speed\": 15.9, \"precipitation \": \" 1.26G\", \"producer\": 1, \"date\": \"2019-3-31\"}\n",
      "Message published successfully. Data: {\"latitude\": -37.601999999999997, \"longitude\": 149.29499999999999, \"air_temperature_celcius\": 17, \"relative_humidity\": 50.799999999999997, \"windspeed_knots\": 9.0, \"max_wind_speed\": 15.9, \"precipitation \": \" 0.00G\", \"producer\": 1, \"date\": \"2019-4-1\"}\n",
      "Message published successfully. Data: {\"latitude\": -36.764000000000003, \"longitude\": 144.16499999999999, \"air_temperature_celcius\": 14, \"relative_humidity\": 52.399999999999999, \"windspeed_knots\": 6.7000000000000002, \"max_wind_speed\": 11.1, \"precipitation \": \" 0.00I\", \"producer\": 1, \"date\": \"2019-4-2\"}\n",
      "Message published successfully. Data: {\"latitude\": -37.683599999999998, \"longitude\": 142.6069, \"air_temperature_celcius\": 13, \"relative_humidity\": 38.399999999999999, \"windspeed_knots\": 11.5, \"max_wind_speed\": 16.899999999999999, \"precipitation \": \" 0.00G\", \"producer\": 1, \"date\": \"2019-4-3\"}\n"
     ]
    },
    {
     "name": "stdout",
     "output_type": "stream",
     "text": [
      "Message published successfully. Data: {\"latitude\": -37.614000000000004, \"longitude\": 143.45099999999999, \"air_temperature_celcius\": 19, \"relative_humidity\": 60.200000000000003, \"windspeed_knots\": 6.4000000000000004, \"max_wind_speed\": 12.0, \"precipitation \": \" 0.00I\", \"producer\": 1, \"date\": \"2019-4-4\"}\n",
      "Message published successfully. Data: {\"latitude\": -35.325000000000003, \"longitude\": 143.49700000000001, \"air_temperature_celcius\": 13, \"relative_humidity\": 48.5, \"windspeed_knots\": 5.2999999999999998, \"max_wind_speed\": 11.1, \"precipitation \": \" 0.08G\", \"producer\": 1, \"date\": \"2019-4-5\"}\n",
      "Message published successfully. Data: {\"latitude\": -36.7179, \"longitude\": 142.25360000000001, \"air_temperature_celcius\": 11, \"relative_humidity\": 40.399999999999999, \"windspeed_knots\": 9.1999999999999993, \"max_wind_speed\": 15.0, \"precipitation \": \" 0.04G\", \"producer\": 1, \"date\": \"2019-4-6\"}\n",
      "Message published successfully. Data: {\"latitude\": -37.604999999999997, \"longitude\": 149.30200000000002, \"air_temperature_celcius\": 18, \"relative_humidity\": 54.399999999999999, \"windspeed_knots\": 5.7000000000000002, \"max_wind_speed\": 9.9000000000000004, \"precipitation \": \" 0.00I\", \"producer\": 1, \"date\": \"2019-4-7\"}\n",
      "Message published successfully. Data: {\"latitude\": -37.244999999999997, \"longitude\": 143.42600000000002, \"air_temperature_celcius\": 10, \"relative_humidity\": 47.0, \"windspeed_knots\": 5.2000000000000002, \"max_wind_speed\": 8.9000000000000004, \"precipitation \": \" 0.00I\", \"producer\": 1, \"date\": \"2019-4-8\"}\n",
      "Message published successfully. Data: {\"latitude\": -38.116, \"longitude\": 143.81799999999998, \"air_temperature_celcius\": 10, \"relative_humidity\": 46.799999999999997, \"windspeed_knots\": 5.2999999999999998, \"max_wind_speed\": 9.9000000000000004, \"precipitation \": \" 0.00I\", \"producer\": 1, \"date\": \"2019-4-9\"}\n",
      "Message published successfully. Data: {\"latitude\": -36.538000000000004, \"longitude\": 141.12899999999999, \"air_temperature_celcius\": 12, \"relative_humidity\": 43.399999999999999, \"windspeed_knots\": 9.3000000000000007, \"max_wind_speed\": 15.0, \"precipitation \": \" 0.00I\", \"producer\": 1, \"date\": \"2019-4-10\"}\n"
     ]
    },
    {
     "ename": "KeyboardInterrupt",
     "evalue": "",
     "output_type": "error",
     "traceback": [
      "\u001b[0;31m---------------------------------------------------------------------------\u001b[0m",
      "\u001b[0;31mKeyboardInterrupt\u001b[0m                         Traceback (most recent call last)",
      "\u001b[0;32m<ipython-input-2-a23c9a53bd0c>\u001b[0m in \u001b[0;36m<module>\u001b[0;34m\u001b[0m\n\u001b[1;32m     74\u001b[0m         \u001b[0;31m#send data\u001b[0m\u001b[0;34m\u001b[0m\u001b[0;34m\u001b[0m\u001b[0;34m\u001b[0m\u001b[0m\n\u001b[1;32m     75\u001b[0m         \u001b[0mpublish_message\u001b[0m\u001b[0;34m(\u001b[0m\u001b[0mproducer\u001b[0m\u001b[0;34m,\u001b[0m \u001b[0mtopic\u001b[0m\u001b[0;34m,\u001b[0m \u001b[0mkey\u001b[0m\u001b[0;34m,\u001b[0m \u001b[0mdeserialize_json\u001b[0m\u001b[0;34m)\u001b[0m\u001b[0;34m\u001b[0m\u001b[0;34m\u001b[0m\u001b[0m\n\u001b[0;32m---> 76\u001b[0;31m         \u001b[0msleep\u001b[0m\u001b[0;34m(\u001b[0m\u001b[0;36m10\u001b[0m\u001b[0;34m)\u001b[0m \u001b[0;31m#send data every 10 seconds\u001b[0m\u001b[0;34m\u001b[0m\u001b[0;34m\u001b[0m\u001b[0m\n\u001b[0m\u001b[1;32m     77\u001b[0m         \u001b[0;31m#print(str(data))\u001b[0m\u001b[0;34m\u001b[0m\u001b[0;34m\u001b[0m\u001b[0;34m\u001b[0m\u001b[0m\n",
      "\u001b[0;31mKeyboardInterrupt\u001b[0m: "
     ]
    }
   ],
   "source": [
    "import datetime as dt\n",
    "from time import sleep\n",
    "from kafka import KafkaProducer\n",
    "import pandas as pd\n",
    "import json\n",
    "import random\n",
    "\n",
    "\n",
    "def publish_message(producer_instance, topic_name, key, value):\n",
    "    try:\n",
    "        if type(topic_name) == bytes:\n",
    "            topic_name = topic_name.decode('utf-8')\n",
    "        key_bytes = bytes(key, encoding='utf-8')\n",
    "        value_bytes = bytes(value, encoding='utf-8')\n",
    "        producer_instance.send(topic_name, key=key_bytes, value=value_bytes)\n",
    "        producer_instance.flush()\n",
    "        print('Message published successfully. Data: ' + value)\n",
    "    except Exception as ex:\n",
    "        print('Exception in publishing message.')\n",
    "        print(str(ex))\n",
    "\n",
    "        \n",
    "def connect_kafka_producer():\n",
    "    _producer = None\n",
    "    try:\n",
    "        _producer = KafkaProducer(bootstrap_servers=['localhost:9092'],\n",
    "                                  api_version=(0, 10))\n",
    "    except IOError:\n",
    "        print (\"IO error\")\n",
    "    except ValueError:\n",
    "        print (\"Conversion error\")\n",
    "    except Exception as ex:\n",
    "        print('Exception while connecting Kafka.')\n",
    "        print(str(ex))\n",
    "    finally:\n",
    "        return _producer\n",
    "\n",
    "\n",
    "\n",
    "if __name__ == \"__main__\":\n",
    "    producer_id = 1\n",
    "    key = str(producer_id)\n",
    "    #topic = \"streaming\"\n",
    "    topic = \"climate\"\n",
    "    producer = connect_kafka_producer()\n",
    "    climate_data  = pd.read_csv(\"/home/student/Documents/climate_streaming.csv\") #change the path\n",
    "    latestDateInDB =  latestDate #FIND THE LATEST DATE IN THE DB\n",
    "    lastDatetime = dt.datetime.now()\n",
    "    \n",
    "    #make each record into json\n",
    "    #for i in range(len(climate_data)):\n",
    "    while True:\n",
    "        randomint=random.randint(0,len(climate_data)-1)\n",
    "        data = {}\n",
    "        for j in climate_data:\n",
    "            data[j] = climate_data[j][randomint]\n",
    "        #extra information\n",
    "        data[\"producer\"] = producer_id\n",
    "        #new day every 10 seconds\n",
    "        currentDatetime = dt.datetime.now()\n",
    "        duration = currentDatetime - lastDatetime\n",
    "        if duration.total_seconds() >= 10:\n",
    "            latestDateInDB = latestDateInDB + dt.timedelta(days=1)\n",
    "            #THIS IS ASSUMING YOU COMPARE THE TEN SECONDS INTERVAL WITH THE LAST CREATED DATE\n",
    "            #INSTEAD OF KEEP ADDING 10 SECONDS TO THE FIRST DATA'S CREATED DATE\n",
    "            lastDatetime = currentDatetime\n",
    "        data[\"date\"] = str(latestDateInDB.year) + \"-\" + str(latestDateInDB.month) + \"-\" + str(latestDateInDB.day)\n",
    "        \n",
    "        #deserialize json and replace '' with \"\"\n",
    "        deserialize_json = str(data).replace(\"\\'\", \"\\\"\")\n",
    "        \n",
    "        #send data\n",
    "        publish_message(producer, topic, key, deserialize_json)\n",
    "        sleep(10) #send data every 10 seconds\n",
    "        #print(str(data))\n"
   ]
  },
  {
   "cell_type": "code",
   "execution_count": 12,
   "metadata": {},
   "outputs": [
    {
     "name": "stdout",
     "output_type": "stream",
     "text": [
      "{'latitude': -37.380000000000003, 'longitude': 149.334, 'air_temperature_celcius': 16, 'relative_humidity': 48.200000000000003, 'windspeed_knots': 9.9000000000000004, 'max_wind_speed': 18.100000000000001, 'precipitation ': ' 0.01G'}\n"
     ]
    }
   ],
   "source": [
    "import random\n",
    "climate  = pd.read_csv(\"/home/student/Documents/climate_streaming.csv\")\n",
    "\n",
    "for i in range(len(climate)):\n",
    "    randomint=random.randint(0,len(climate)-1)\n",
    "    data={}\n",
    "    for j in climate:\n",
    "        data[j] = climate_data[j][randomint]\n",
    "    print(data)\n",
    "    break\n",
    "\n",
    "#record=climate.sample()\n",
    "#print(record)\n",
    "\n",
    "#print(\"------------------------------------\")\n",
    "#record=climate.sample()\n",
    "#print(record)\n",
    "#print(\"-------------------------------------\")\n",
    "#record=climate.sample()\n",
    "#print(record)"
   ]
  },
  {
   "cell_type": "code",
   "execution_count": null,
   "metadata": {},
   "outputs": [],
   "source": []
  },
  {
   "cell_type": "code",
   "execution_count": null,
   "metadata": {},
   "outputs": [],
   "source": []
  }
 ],
 "metadata": {
  "kernelspec": {
   "display_name": "Python 3",
   "language": "python",
   "name": "python3"
  },
  "language_info": {
   "codemirror_mode": {
    "name": "ipython",
    "version": 3
   },
   "file_extension": ".py",
   "mimetype": "text/x-python",
   "name": "python",
   "nbconvert_exporter": "python",
   "pygments_lexer": "ipython3",
   "version": "3.6.9"
  }
 },
 "nbformat": 4,
 "nbformat_minor": 4
}
